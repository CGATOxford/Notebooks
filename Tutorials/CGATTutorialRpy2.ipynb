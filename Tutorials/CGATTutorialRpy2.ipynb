{
 "cells": [
  {
   "cell_type": "markdown",
   "metadata": {
    "collapsed": true
   },
   "source": [
    "# Rpy2 Tutorial\n",
    "\n",
    "This tutorial shows how to use rpy2 functionality in python scripts. The tutorial focuses on the high-level interface of rpy2."
   ]
  },
  {
   "cell_type": "markdown",
   "metadata": {},
   "source": [
    "## Introduction\n",
    "\n",
    "rpy2 is a communication layer between python and R. When importing rpy2, an embedded R instance in started."
   ]
  },
  {
   "cell_type": "code",
   "execution_count": 1,
   "metadata": {
    "collapsed": false
   },
   "outputs": [],
   "source": [
    "import rpy2.robjects as robjects\n",
    "from rpy2.robjects import r as R"
   ]
  },
  {
   "cell_type": "markdown",
   "metadata": {},
   "source": [
    "Objects in R can be accessed via the __get_item__ attributes:"
   ]
  },
  {
   "cell_type": "code",
   "execution_count": 2,
   "metadata": {
    "collapsed": false
   },
   "outputs": [
    {
     "name": "stdout",
     "output_type": "stream",
     "text": [
      "[1] 3.141593\n",
      "\n"
     ]
    }
   ],
   "source": [
    "pi = R['pi']\n",
    "print pi"
   ]
  },
  {
   "cell_type": "markdown",
   "metadata": {},
   "source": [
    "R functions can be called as python funtions():"
   ]
  },
  {
   "cell_type": "code",
   "execution_count": 3,
   "metadata": {
    "collapsed": false
   },
   "outputs": [
    {
     "name": "stdout",
     "output_type": "stream",
     "text": [
      "R version 3.3.0 (2016-05-03)\n",
      "Platform: x86_64-pc-linux-gnu (64-bit)\n",
      "Running under: Red Hat Enterprise Linux Server release 6.8 (Santiago)\n",
      "\n",
      "locale:\n",
      "[1] C\n",
      "\n",
      "attached base packages:\n",
      "[1] tools     stats     graphics  grDevices utils     datasets  methods  \n",
      "[8] base     \n",
      "\n"
     ]
    }
   ],
   "source": [
    "session_info = R.sessionInfo()\n",
    "print session_info"
   ]
  },
  {
   "cell_type": "markdown",
   "metadata": {},
   "source": [
    "R functions can accept arguments:"
   ]
  },
  {
   "cell_type": "code",
   "execution_count": 4,
   "metadata": {
    "collapsed": false
   },
   "outputs": [
    {
     "name": "stdout",
     "output_type": "stream",
     "text": [
      "[1] 1.772454\n",
      "\n"
     ]
    }
   ],
   "source": [
    "print R.sqrt(pi)"
   ]
  },
  {
   "cell_type": "markdown",
   "metadata": {},
   "source": [
    "Some function names in R contain '.', which is not accepted python syntax. To work around this, create a python variable holding the reference to the function:"
   ]
  },
  {
   "cell_type": "code",
   "execution_count": 5,
   "metadata": {
    "collapsed": false
   },
   "outputs": [
    {
     "name": "stdout",
     "output_type": "stream",
     "text": [
      "[1] TRUE\n",
      "\n"
     ]
    }
   ],
   "source": [
    "is_numeric = R['is.numeric']\n",
    "print is_numeric(pi)"
   ]
  },
  {
   "cell_type": "markdown",
   "metadata": {},
   "source": [
    "## R objects versus python objects\n",
    "\n",
    "Return values from rpy2 are python objects that represent R data structures held in R. As R typically returns vectors, the same will be true for the R-like python objects. This might lead to unexpected behaviour:"
   ]
  },
  {
   "cell_type": "code",
   "execution_count": 6,
   "metadata": {
    "collapsed": false
   },
   "outputs": [
    {
     "name": "stdout",
     "output_type": "stream",
     "text": [
      "[1] 3.141593\n",
      "\n",
      "[1] 3.141593 2.000000\n",
      "\n"
     ]
    }
   ],
   "source": [
    "pi = R['pi']\n",
    "print pi\n",
    "print pi + 2"
   ]
  },
  {
   "cell_type": "markdown",
   "metadata": {},
   "source": [
    "The reason becomes clear when inspecting the type of the python object pi:"
   ]
  },
  {
   "cell_type": "code",
   "execution_count": 7,
   "metadata": {
    "collapsed": false
   },
   "outputs": [
    {
     "name": "stdout",
     "output_type": "stream",
     "text": [
      "<class 'rpy2.robjects.vectors.FloatVector'>\n"
     ]
    }
   ],
   "source": [
    "print type(pi)"
   ]
  },
  {
   "cell_type": "markdown",
   "metadata": {},
   "source": [
    "*pi* is an R-like object of Type FloatVector. The `+ 2` was interpreted as a concatenation option. To increment pi by 2, do the following:"
   ]
  },
  {
   "cell_type": "code",
   "execution_count": 8,
   "metadata": {
    "collapsed": false
   },
   "outputs": [
    {
     "name": "stdout",
     "output_type": "stream",
     "text": [
      "5.14159265359\n"
     ]
    }
   ],
   "source": [
    "print pi[0] + 2"
   ]
  },
  {
   "cell_type": "markdown",
   "metadata": {},
   "source": [
    "Similarly, the return value of the sessionInfo() call is a nested list structure:"
   ]
  },
  {
   "cell_type": "code",
   "execution_count": 9,
   "metadata": {
    "collapsed": false
   },
   "outputs": [
    {
     "name": "stdout",
     "output_type": "stream",
     "text": [
      "<class 'rpy2.robjects.vectors.ListVector'>\n"
     ]
    }
   ],
   "source": [
    "print type(session_info)"
   ]
  },
  {
   "cell_type": "markdown",
   "metadata": {},
   "source": [
    "The python proxy objects representing R objects contain an interface that is very similar to the corresponding python types. Thus, printing produces familiar output or the return values can be used in many python expressions such as \"sorted\":"
   ]
  },
  {
   "cell_type": "code",
   "execution_count": 10,
   "metadata": {
    "collapsed": false
   },
   "outputs": [
    {
     "name": "stdout",
     "output_type": "stream",
     "text": [
      "[2, 3, 4]\n"
     ]
    }
   ],
   "source": [
    "print sorted(R.c(4,3,2))"
   ]
  },
  {
   "cell_type": "markdown",
   "metadata": {},
   "source": [
    "## Converting R objects into python objects"
   ]
  },
  {
   "cell_type": "markdown",
   "metadata": {},
   "source": [
    "Conversion between R objects can be either manual or automatic.\n",
    "\n",
    "### Manual conversion\n",
    "\n",
    "By default, R return values are not converted into native python types but instead, proxy objects are returned that reference data held within the R interpreter. Generally, the interface of the R-like objects is very similar to the python equivalents. In the rare cases where this fails, explicit conversions are generally straight-forward:"
   ]
  },
  {
   "cell_type": "code",
   "execution_count": 11,
   "metadata": {
    "collapsed": false
   },
   "outputs": [
    {
     "name": "stdout",
     "output_type": "stream",
     "text": [
      "c_list= <class 'rpy2.robjects.vectors.IntVector'>\n",
      "py_list= <type 'list'>\n",
      "py_list[0]= <type 'int'>\n"
     ]
    }
   ],
   "source": [
    "c_list = R.c(2, 3, 4)\n",
    "print \"c_list=\", type(c_list)\n",
    "py_list = list(c_list)\n",
    "print \"py_list=\", type(py_list)\n",
    "print \"py_list[0]=\", type(py_list[0])"
   ]
  },
  {
   "cell_type": "markdown",
   "metadata": {},
   "source": [
    "For complex data types such as matrices and dataframes, rpy2 provides utility functions. For example, the interface of rpy2's r-like objects support numpy directly:"
   ]
  },
  {
   "cell_type": "code",
   "execution_count": 12,
   "metadata": {
    "collapsed": false
   },
   "outputs": [
    {
     "name": "stdout",
     "output_type": "stream",
     "text": [
      "<type 'numpy.ndarray'>\n",
      "[2 3 4]\n"
     ]
    }
   ],
   "source": [
    "import numpy\n",
    "numpy_array = numpy.array(R.c(2,3,4))\n",
    "print type(numpy_array)\n",
    "print numpy_array"
   ]
  },
  {
   "cell_type": "markdown",
   "metadata": {},
   "source": [
    "Note that converting to an array will duplicate the memory used. numpy.asarray() creates a view()"
   ]
  },
  {
   "cell_type": "code",
   "execution_count": 13,
   "metadata": {
    "collapsed": false
   },
   "outputs": [
    {
     "name": "stdout",
     "output_type": "stream",
     "text": [
      "<class 'numpy.matrixlib.defmatrix.matrix'>\n",
      "[[1 3]\n",
      " [2 4]]\n"
     ]
    }
   ],
   "source": [
    "numpy_matrix = numpy.matrix(R.matrix(R.c(1,2,3,4), nrow=2))\n",
    "print type(numpy_matrix)\n",
    "print numpy_matrix"
   ]
  },
  {
   "cell_type": "markdown",
   "metadata": {},
   "source": [
    "To convert rpy2's data frames into python dataframes, use pandas2ri:"
   ]
  },
  {
   "cell_type": "code",
   "execution_count": 14,
   "metadata": {
    "collapsed": false
   },
   "outputs": [
    {
     "name": "stdout",
     "output_type": "stream",
     "text": [
      "<class 'pandas.core.frame.DataFrame'>\n",
      "   Sepal.Length  Sepal.Width  Petal.Length  Petal.Width Species\n",
      "1           5.1          3.5           1.4          0.2  setosa\n",
      "2           4.9          3.0           1.4          0.2  setosa\n",
      "3           4.7          3.2           1.3          0.2  setosa\n",
      "4           4.6          3.1           1.5          0.2  setosa\n",
      "5           5.0          3.6           1.4          0.2  setosa\n"
     ]
    }
   ],
   "source": [
    "from rpy2.robjects import pandas2ri\n",
    "R.data('iris')\n",
    "df_iris = pandas2ri.ri2py(R['iris'])\n",
    "print type(df_iris)\n",
    "print df_iris.head()"
   ]
  },
  {
   "cell_type": "markdown",
   "metadata": {},
   "source": [
    "### Automatic conversion\n",
    "\n",
    "It is possible to configure rpy2 to perform automatic conversion of return values. This involves setting custom mappings between R objects and python types. See the chapter on [Mapping rpy2 objects to arbitrary python objects][http://rpy2.readthedocs.io/en/version_2.8.x/robjects_convert.html#mapping-rpy2-objects-to-arbitrary-python-objects].\n",
    "\n",
    "In my opinion, the default manual conversion is to be preferred. It follows the python principle that explicit is better than implicit. It will also save on unnecessary conversions being performed. As a downside, developers need to be aware of rpy2 as a communication layer."
   ]
  },
  {
   "cell_type": "markdown",
   "metadata": {
    "collapsed": true
   },
   "source": [
    "## Converting python objects into R objects\n",
    "\n",
    "The conversion of python objects into R-like objects works similarly to the other directions. In most cases, the shared API of python and R-like data types makes the conversion implicit."
   ]
  },
  {
   "cell_type": "code",
   "execution_count": 15,
   "metadata": {
    "collapsed": false
   },
   "outputs": [
    {
     "name": "stdout",
     "output_type": "stream",
     "text": [
      "     [,1] [,2]\n",
      "[1,] 1    3   \n",
      "[2,] 2    4   \n",
      "\n"
     ]
    }
   ],
   "source": [
    "print R.matrix([1,2,3,4], nrow=2)"
   ]
  },
  {
   "cell_type": "code",
   "execution_count": 16,
   "metadata": {
    "collapsed": false
   },
   "outputs": [
    {
     "name": "stdout",
     "output_type": "stream",
     "text": [
      "<class 'pandas.core.frame.DataFrame'>\n",
      "<class 'rpy2.robjects.vectors.DataFrame'>\n",
      "      A B C\n",
      "one   1 4 7\n",
      "two   2 5 8\n",
      "three 3 6 9\n",
      "\n"
     ]
    }
   ],
   "source": [
    "df = pandas.DataFrame({'A': [1, 2, 3], 'B': [4, 5, 6], 'C':[7,8,9]},\n",
    "                      index=[\"one\", \"two\", \"three\"])\n",
    "print type(df)\n",
    "pandas2ri.activate()\n",
    "r_df = pandas2ri.py2ri(df)\n",
    "pandas2ri.deactivate()\n",
    "print type(r_df)\n",
    "print r_df"
   ]
  },
  {
   "cell_type": "markdown",
   "metadata": {},
   "source": [
    "Note that pandas2ri needs to be activated for this to work. Presumably this is because the dataframe is converted as a collection of Series."
   ]
  },
  {
   "cell_type": "markdown",
   "metadata": {},
   "source": [
    "# Python and R Namespaces\n",
    "\n"
   ]
  },
  {
   "cell_type": "code",
   "execution_count": 17,
   "metadata": {
    "collapsed": false
   },
   "outputs": [
    {
     "name": "stdout",
     "output_type": "stream",
     "text": [
      "[1] 1 2 3\n",
      "\n"
     ]
    }
   ],
   "source": [
    "py_var = R.c(1, 2, 3)\n",
    "print py_var"
   ]
  },
  {
   "cell_type": "markdown",
   "metadata": {},
   "source": [
    "The py_var variable is not part of the R namespace and thus the following fails:"
   ]
  },
  {
   "cell_type": "code",
   "execution_count": 18,
   "metadata": {
    "collapsed": false
   },
   "outputs": [
    {
     "data": {
      "text/plain": [
       "False"
      ]
     },
     "execution_count": 18,
     "metadata": {},
     "output_type": "execute_result"
    }
   ],
   "source": [
    "'py_var' in robjects.globalenv"
   ]
  },
  {
   "cell_type": "code",
   "execution_count": 19,
   "metadata": {
    "collapsed": false
   },
   "outputs": [
    {
     "data": {
      "text/plain": [
       "<IntVector - Python:0x2b60d8017998 / R:0x351aaf8>\n",
       "[       1,        2,        3]"
      ]
     },
     "execution_count": 19,
     "metadata": {},
     "output_type": "execute_result"
    }
   ],
   "source": [
    "R.assign('r_var', py_var)"
   ]
  },
  {
   "cell_type": "code",
   "execution_count": 20,
   "metadata": {
    "collapsed": false
   },
   "outputs": [
    {
     "name": "stdout",
     "output_type": "stream",
     "text": [
      "True\n",
      "[1] 1 2 3\n",
      "\n"
     ]
    }
   ],
   "source": [
    "print 'r_var' in robjects.globalenv\n",
    "print R('''r_var''')"
   ]
  },
  {
   "cell_type": "code",
   "execution_count": 21,
   "metadata": {
    "collapsed": false
   },
   "outputs": [
    {
     "name": "stdout",
     "output_type": "stream",
     "text": [
      "[1] 1 5 3\n",
      "\n"
     ]
    }
   ],
   "source": [
    "py_var[1] = 5\n",
    "print R('''r_var''')"
   ]
  },
  {
   "cell_type": "markdown",
   "metadata": {},
   "source": [
    "An alternative way to transfer variables is to assign them to an R environment. Here, we assign to the global R environment. Note that this assignment creates a copy."
   ]
  },
  {
   "cell_type": "code",
   "execution_count": 22,
   "metadata": {
    "collapsed": false
   },
   "outputs": [
    {
     "name": "stdout",
     "output_type": "stream",
     "text": [
      "[1] 1 5 3\n",
      "\n",
      "[1] 1 4 3\n",
      "\n",
      "[1] 1 5 3\n",
      "\n"
     ]
    }
   ],
   "source": [
    "robjects.globalenv['r_var2'] = py_var\n",
    "print R('''r_var2''')\n",
    "py_var[1] = 4\n",
    "print R('''r_var''')\n",
    "print R('''r_var2''')"
   ]
  },
  {
   "cell_type": "markdown",
   "metadata": {},
   "source": [
    "R objects that are held by python are anonymous. However, they do have an R-representation that can be used directly in R expressions."
   ]
  },
  {
   "cell_type": "code",
   "execution_count": 23,
   "metadata": {
    "collapsed": false
   },
   "outputs": [
    {
     "data": {
      "text/plain": [
       "<IntVector - Python:0x2b61735f3998 / R:0x45e8248>\n",
       "[       8]"
      ]
     },
     "execution_count": 23,
     "metadata": {},
     "output_type": "execute_result"
    }
   ],
   "source": [
    "py_var.r_repr()\n",
    "R(\"\"\"sum({})\"\"\".format(py_var.r_repr()))"
   ]
  },
  {
   "cell_type": "markdown",
   "metadata": {},
   "source": [
    "Note that this is textual representation and thus not a very effective way of transfering data between the python and R worlds."
   ]
  },
  {
   "cell_type": "markdown",
   "metadata": {},
   "source": [
    "# Element access in lists\n",
    "\n",
    "Lists and arrays can be an issue as there are differences between python and R. For example, python lists start at element 0 while R vectors start at 1. Thus there are different ways to access elements in R-like vector objects.\n",
    "\n",
    "## Python element acccess\n",
    "The __get_item__() and __set_item__() and slicing accessors work from python as expected:"
   ]
  },
  {
   "cell_type": "code",
   "execution_count": 24,
   "metadata": {
    "collapsed": false
   },
   "outputs": [
    {
     "name": "stdout",
     "output_type": "stream",
     "text": [
      "0\n",
      "4\n",
      "[1] 1 2\n",
      "\n",
      "[1] 0 1 5 3 4\n",
      "\n"
     ]
    }
   ],
   "source": [
    "r_vector = R.c(0,1,2,3,4)\n",
    "print r_vector[0]\n",
    "print r_vector[-1]\n",
    "print r_vector[1:3]\n",
    "r_vector[2] = 5\n",
    "print r_vector"
   ]
  },
  {
   "cell_type": "markdown",
   "metadata": {},
   "source": [
    "## R-like element access\n",
    "\n",
    "To use R-like indexing, use the .rx and .rx2 accessor functions. .rx corresponds to the '[' operator in R, while .rx2 corresponds to the '[[' operator. Thus, to extract the first element using R-based indexing, type:"
   ]
  },
  {
   "cell_type": "code",
   "execution_count": 25,
   "metadata": {
    "collapsed": false
   },
   "outputs": [
    {
     "name": "stdout",
     "output_type": "stream",
     "text": [
      "[1] 0\n",
      "\n",
      "[1] 1 2 3 4\n",
      "\n",
      "[1] 1 3 1\n",
      "\n"
     ]
    }
   ],
   "source": [
    "r_vector = R.c(0,1,2,3,4)\n",
    "print r_vector.rx(1)\n",
    "print r_vector.rx(-1)  # in R, -1 is element exclusion\n",
    "print r_vector.rx(robjects.IntVector((2, 4, 2)))"
   ]
  },
  {
   "cell_type": "code",
   "execution_count": 26,
   "metadata": {
    "collapsed": false
   },
   "outputs": [
    {
     "name": "stdout",
     "output_type": "stream",
     "text": [
      "$a\n",
      "[1] 2\n",
      "\n",
      "\n",
      "[1] 2\n",
      "\n"
     ]
    }
   ],
   "source": [
    "r_list = R('''list(a=2, b=3, c=4)''')\n",
    "print r_list.rx('a')\n",
    "print r_list.rx2('a')"
   ]
  },
  {
   "cell_type": "markdown",
   "metadata": {},
   "source": [
    "Note: there are additional ways for python and R to interact and pass variables and data around."
   ]
  },
  {
   "cell_type": "markdown",
   "metadata": {},
   "source": [
    "# Todo\n",
    "\n",
    "* Notes on threading/multiprocessing\n",
    "* Notes on efficiency.\n",
    "* Notes on safe development in global R namespace.\n",
    "* Notes on why?"
   ]
  }
 ],
 "metadata": {
  "kernelspec": {
   "display_name": "Python 2",
   "language": "python",
   "name": "python2"
  },
  "language_info": {
   "codemirror_mode": {
    "name": "ipython",
    "version": 2
   },
   "file_extension": ".py",
   "mimetype": "text/x-python",
   "name": "python",
   "nbconvert_exporter": "python",
   "pygments_lexer": "ipython2",
   "version": "2.7.11"
  }
 },
 "nbformat": 4,
 "nbformat_minor": 0
}
