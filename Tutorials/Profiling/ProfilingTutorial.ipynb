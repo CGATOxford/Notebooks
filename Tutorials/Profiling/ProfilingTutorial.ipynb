{
 "cells": [
  {
   "cell_type": "markdown",
   "metadata": {},
   "source": [
    "# Profiling tutorial\n",
    "\n",
    "This tutorial covers profiling approaches from the command line or within python scripts. There is a lot of functionality to profile within Jupyter notebooks, using py.test or other frameworks."
   ]
  },
  {
   "cell_type": "markdown",
   "metadata": {},
   "source": [
    "## Setup\n",
    "\n",
    "Install the following into your environment"
   ]
  },
  {
   "cell_type": "code",
   "execution_count": 1,
   "metadata": {},
   "outputs": [],
   "source": [
    "# !conda install graphviz pyprof2calltree"
   ]
  },
  {
   "cell_type": "markdown",
   "metadata": {},
   "source": [
    "## Measuring execution time\n",
    "\n",
    "We want to find out, how long the script `to_profile.py` takes."
   ]
  },
  {
   "cell_type": "code",
   "execution_count": 2,
   "metadata": {},
   "outputs": [
    {
     "name": "stdout",
     "output_type": "stream",
     "text": [
      "5208519\r\n"
     ]
    }
   ],
   "source": [
    "!python to_profile.py"
   ]
  },
  {
   "cell_type": "markdown",
   "metadata": {},
   "source": [
    "Use /usr/bin/time to time how long your program takes."
   ]
  },
  {
   "cell_type": "code",
   "execution_count": 3,
   "metadata": {},
   "outputs": [
    {
     "name": "stdout",
     "output_type": "stream",
     "text": [
      "5208104\r\n",
      "0.14user 0.00system 0:00.17elapsed 85%CPU (0text+0data 9156max)k 0inputs+0outputs (0major+2557minor)pagefaults 0swaps\r\n"
     ]
    }
   ],
   "source": [
    "!/usr/bin/time python to_profile.py"
   ]
  },
  {
   "cell_type": "markdown",
   "metadata": {},
   "source": [
    "With the -v option you get additional information:"
   ]
  },
  {
   "cell_type": "code",
   "execution_count": 12,
   "metadata": {},
   "outputs": [
    {
     "name": "stdout",
     "output_type": "stream",
     "text": [
      "5202165\r\n",
      "\tCommand being timed: \"python to_profile.py\"\r\n",
      "\tUser time (seconds): 0.16\r\n",
      "\tSystem time (seconds): 0.00\r\n",
      "\tPercent of CPU this job got: 70%\r\n",
      "\tElapsed (wall clock) time (h:mm:ss or m:ss): 0:00.24\r\n",
      "\tAverage shared text size (kbytes): 0\r\n",
      "\tAverage unshared data size (kbytes): 0\r\n",
      "\tAverage stack size (kbytes): 0\r\n",
      "\tAverage total size (kbytes): 0\r\n",
      "\tMaximum resident set size (kbytes): 9156\r\n",
      "\tAverage resident set size (kbytes): 0\r\n",
      "\tMajor (requiring I/O) page faults: 0\r\n",
      "\tMinor (reclaiming a frame) page faults: 2558\r\n",
      "\tVoluntary context switches: 230\r\n",
      "\tInvoluntary context switches: 57\r\n",
      "\tSwaps: 0\r\n",
      "\tFile system inputs: 0\r\n",
      "\tFile system outputs: 0\r\n",
      "\tSocket messages sent: 0\r\n",
      "\tSocket messages received: 0\r\n",
      "\tSignals delivered: 0\r\n",
      "\tPage size (bytes): 4096\r\n",
      "\tExit status: 0\r\n"
     ]
    }
   ],
   "source": [
    "!/usr/bin/time -v python to_profile.py"
   ]
  },
  {
   "cell_type": "markdown",
   "metadata": {},
   "source": [
    "## Using the python profiler\n",
    "\n",
    "You can use the python profile to find out how much time is spent in each python function."
   ]
  },
  {
   "cell_type": "code",
   "execution_count": 19,
   "metadata": {},
   "outputs": [
    {
     "name": "stdout",
     "output_type": "stream",
     "text": [
      "5207103\r\n",
      "         828186 function calls (828164 primitive calls) in 0.234 seconds\r\n",
      "\r\n",
      "   Ordered by: standard name\r\n",
      "\r\n",
      "   ncalls  tottime  percall  cumtime  percall filename:lineno(function)\r\n",
      "        5    0.000    0.000    0.000    0.000 <frozen importlib._bootstrap>:119(release)\r\n",
      "        5    0.000    0.000    0.000    0.000 <frozen importlib._bootstrap>:159(__init__)\r\n",
      "        5    0.000    0.000    0.000    0.000 <frozen importlib._bootstrap>:163(__enter__)\r\n",
      "        5    0.000    0.000    0.000    0.000 <frozen importlib._bootstrap>:170(__exit__)\r\n",
      "        5    0.000    0.000    0.000    0.000 <frozen importlib._bootstrap>:176(_get_module_lock)\r\n",
      "        5    0.000    0.000    0.000    0.000 <frozen importlib._bootstrap>:190(cb)\r\n",
      "      8/1    0.000    0.000    0.008    0.008 <frozen importlib._bootstrap>:214(_call_with_frames_removed)\r\n",
      "        5    0.000    0.000    0.000    0.000 <frozen importlib._bootstrap>:225(_verbose_message)\r\n",
      "        5    0.000    0.000    0.000    0.000 <frozen importlib._bootstrap>:310(__init__)\r\n",
      "        5    0.000    0.000    0.000    0.000 <frozen importlib._bootstrap>:314(__enter__)\r\n",
      "        5    0.000    0.000    0.000    0.000 <frozen importlib._bootstrap>:321(__exit__)\r\n",
      "       20    0.000    0.000    0.000    0.000 <frozen importlib._bootstrap>:324(<genexpr>)\r\n",
      "        2    0.000    0.000    0.000    0.000 <frozen importlib._bootstrap>:35(_new_module)\r\n",
      "        5    0.000    0.000    0.000    0.000 <frozen importlib._bootstrap>:372(__init__)\r\n",
      "        7    0.000    0.000    0.000    0.000 <frozen importlib._bootstrap>:406(cached)\r\n",
      "        5    0.000    0.000    0.000    0.000 <frozen importlib._bootstrap>:419(parent)\r\n",
      "        5    0.000    0.000    0.000    0.000 <frozen importlib._bootstrap>:427(has_location)\r\n",
      "        5    0.000    0.000    0.000    0.000 <frozen importlib._bootstrap>:510(_init_module_attrs)\r\n",
      "        5    0.000    0.000    0.005    0.001 <frozen importlib._bootstrap>:570(module_from_spec)\r\n",
      "      5/1    0.000    0.000    0.009    0.009 <frozen importlib._bootstrap>:659(_load_unlocked)\r\n",
      "        5    0.000    0.000    0.000    0.000 <frozen importlib._bootstrap>:716(find_spec)\r\n",
      "        5    0.000    0.000    0.000    0.000 <frozen importlib._bootstrap>:74(__init__)\r\n",
      "        5    0.000    0.000    0.000    0.000 <frozen importlib._bootstrap>:789(find_spec)\r\n",
      "       15    0.000    0.000    0.000    0.000 <frozen importlib._bootstrap>:852(__enter__)\r\n",
      "       15    0.000    0.000    0.000    0.000 <frozen importlib._bootstrap>:856(__exit__)\r\n",
      "        5    0.000    0.000    0.002    0.000 <frozen importlib._bootstrap>:879(_find_spec)\r\n",
      "      5/1    0.000    0.000    0.009    0.009 <frozen importlib._bootstrap>:938(_find_and_load_unlocked)\r\n",
      "        5    0.000    0.000    0.000    0.000 <frozen importlib._bootstrap>:94(acquire)\r\n",
      "      5/1    0.000    0.000    0.009    0.009 <frozen importlib._bootstrap>:965(_find_and_load)\r\n",
      "        8    0.000    0.000    0.000    0.000 <frozen importlib._bootstrap>:995(_handle_fromlist)\r\n",
      "       26    0.000    0.000    0.000    0.000 <frozen importlib._bootstrap_external>:1096(_path_importer_cache)\r\n",
      "        5    0.000    0.000    0.002    0.000 <frozen importlib._bootstrap_external>:1133(_get_spec)\r\n",
      "        5    0.000    0.000    0.002    0.000 <frozen importlib._bootstrap_external>:1165(find_spec)\r\n",
      "        5    0.000    0.000    0.000    0.000 <frozen importlib._bootstrap_external>:1242(_get_spec)\r\n",
      "       21    0.000    0.000    0.002    0.000 <frozen importlib._bootstrap_external>:1247(find_spec)\r\n",
      "        4    0.000    0.000    0.000    0.000 <frozen importlib._bootstrap_external>:276(cache_from_source)\r\n",
      "        5    0.000    0.000    0.000    0.000 <frozen importlib._bootstrap_external>:372(_get_cached)\r\n",
      "      101    0.000    0.000    0.000    0.000 <frozen importlib._bootstrap_external>:396(_verbose_message)\r\n",
      "       21    0.000    0.000    0.000    0.000 <frozen importlib._bootstrap_external>:41(_relax_case)\r\n",
      "        2    0.000    0.000    0.000    0.000 <frozen importlib._bootstrap_external>:412(_check_name_wrapper)\r\n",
      "        2    0.000    0.000    0.000    0.000 <frozen importlib._bootstrap_external>:449(_validate_bytecode_header)\r\n",
      "        2    0.000    0.000    0.000    0.000 <frozen importlib._bootstrap_external>:506(_compile_bytecode)\r\n",
      "        4    0.000    0.000    0.000    0.000 <frozen importlib._bootstrap_external>:52(_r_long)\r\n",
      "        5    0.000    0.000    0.000    0.000 <frozen importlib._bootstrap_external>:545(spec_from_file_location)\r\n",
      "       95    0.000    0.000    0.000    0.000 <frozen importlib._bootstrap_external>:57(_path_join)\r\n",
      "       95    0.000    0.000    0.000    0.000 <frozen importlib._bootstrap_external>:59(<listcomp>)\r\n",
      "        4    0.000    0.000    0.000    0.000 <frozen importlib._bootstrap_external>:63(_path_split)\r\n",
      "        2    0.000    0.000    0.000    0.000 <frozen importlib._bootstrap_external>:688(create_module)\r\n",
      "      2/1    0.000    0.000    0.009    0.009 <frozen importlib._bootstrap_external>:691(exec_module)\r\n",
      "       28    0.000    0.000    0.002    0.000 <frozen importlib._bootstrap_external>:75(_path_stat)\r\n",
      "        2    0.000    0.000    0.002    0.001 <frozen importlib._bootstrap_external>:761(get_code)\r\n",
      "        2    0.000    0.000    0.000    0.000 <frozen importlib._bootstrap_external>:818(__init__)\r\n",
      "        2    0.000    0.000    0.000    0.000 <frozen importlib._bootstrap_external>:843(get_filename)\r\n",
      "        2    0.001    0.001    0.001    0.001 <frozen importlib._bootstrap_external>:848(get_data)\r\n",
      "        5    0.000    0.000    0.001    0.000 <frozen importlib._bootstrap_external>:85(_path_is_mode_type)\r\n",
      "        2    0.000    0.000    0.000    0.000 <frozen importlib._bootstrap_external>:858(path_stats)\r\n",
      "        3    0.000    0.000    0.000    0.000 <frozen importlib._bootstrap_external>:924(__init__)\r\n",
      "        3    0.000    0.000    0.005    0.002 <frozen importlib._bootstrap_external>:935(create_module)\r\n",
      "        5    0.000    0.000    0.001    0.000 <frozen importlib._bootstrap_external>:94(_path_isfile)\r\n",
      "        3    0.000    0.000    0.000    0.000 <frozen importlib._bootstrap_external>:943(exec_module)\r\n",
      "        1    0.000    0.000    0.004    0.004 hashlib.py:53(<module>)\r\n",
      "        6    0.000    0.000    0.000    0.000 hashlib.py:98(__get_openssl_constructor)\r\n",
      "   100000    0.055    0.000    0.120    0.000 random.py:179(randrange)\r\n",
      "   100000    0.024    0.000    0.143    0.000 random.py:223(randint)\r\n",
      "   100000    0.048    0.000    0.065    0.000 random.py:229(_randbelow)\r\n",
      "        1    0.000    0.000    0.008    0.008 random.py:37(<module>)\r\n",
      "        1    0.000    0.000    0.000    0.000 random.py:648(SystemRandom)\r\n",
      "        1    0.000    0.000    0.000    0.000 random.py:68(Random)\r\n",
      "        1    0.000    0.000    0.000    0.000 random.py:84(__init__)\r\n",
      "        1    0.000    0.000    0.000    0.000 random.py:93(seed)\r\n",
      "        1    0.030    0.030    0.234    0.234 to_profile.py:1(<module>)\r\n",
      "   100000    0.025    0.000    0.168    0.000 to_profile.py:3(get_number)\r\n",
      "   100000    0.022    0.000    0.189    0.000 to_profile.py:6(add2)\r\n",
      "        1    0.000    0.000    0.000    0.000 {built-in method _hashlib.openssl_md5}\r\n",
      "        1    0.000    0.000    0.000    0.000 {built-in method _hashlib.openssl_sha1}\r\n",
      "        1    0.000    0.000    0.000    0.000 {built-in method _hashlib.openssl_sha224}\r\n",
      "        1    0.000    0.000    0.000    0.000 {built-in method _hashlib.openssl_sha256}\r\n",
      "        1    0.000    0.000    0.000    0.000 {built-in method _hashlib.openssl_sha384}\r\n",
      "        1    0.000    0.000    0.000    0.000 {built-in method _hashlib.openssl_sha512}\r\n",
      "        2    0.000    0.000    0.000    0.000 {built-in method _imp._fix_co_filename}\r\n",
      "       15    0.000    0.000    0.000    0.000 {built-in method _imp.acquire_lock}\r\n",
      "        3    0.005    0.002    0.005    0.002 {built-in method _imp.create_dynamic}\r\n",
      "        3    0.000    0.000    0.000    0.000 {built-in method _imp.exec_dynamic}\r\n",
      "        5    0.000    0.000    0.000    0.000 {built-in method _imp.is_builtin}\r\n",
      "        5    0.000    0.000    0.000    0.000 {built-in method _imp.is_frozen}\r\n",
      "       20    0.000    0.000    0.000    0.000 {built-in method _imp.release_lock}\r\n",
      "       10    0.000    0.000    0.000    0.000 {built-in method _thread.allocate_lock}\r\n",
      "       10    0.000    0.000    0.000    0.000 {built-in method _thread.get_ident}\r\n",
      "        2    0.000    0.000    0.000    0.000 {built-in method builtins.__build_class__}\r\n",
      "        5    0.000    0.000    0.000    0.000 {built-in method builtins.any}\r\n",
      "      3/1    0.000    0.000    0.234    0.234 {built-in method builtins.exec}\r\n",
      "       36    0.000    0.000    0.000    0.000 {built-in method builtins.getattr}\r\n",
      "        6    0.000    0.000    0.000    0.000 {built-in method builtins.globals}\r\n",
      "       39    0.000    0.000    0.000    0.000 {built-in method builtins.hasattr}\r\n",
      "       29    0.000    0.000    0.000    0.000 {built-in method builtins.isinstance}\r\n",
      "        8    0.000    0.000    0.000    0.000 {built-in method builtins.len}\r\n",
      "        1    0.000    0.000    0.000    0.000 {built-in method builtins.print}\r\n",
      "        1    0.001    0.001    0.001    0.001 {built-in method builtins.sum}\r\n",
      "        5    0.000    0.000    0.000    0.000 {built-in method from_bytes}\r\n",
      "        2    0.000    0.000    0.000    0.000 {built-in method marshal.loads}\r\n",
      "        1    0.000    0.000    0.000    0.000 {built-in method math.exp}\r\n",
      "        2    0.000    0.000    0.000    0.000 {built-in method math.log}\r\n",
      "        1    0.000    0.000    0.000    0.000 {built-in method math.sqrt}\r\n",
      "       10    0.000    0.000    0.000    0.000 {built-in method posix.getcwd}\r\n",
      "       28    0.002    0.000    0.002    0.000 {built-in method posix.stat}\r\n",
      "        1    0.000    0.000    0.000    0.000 {built-in method posix.urandom}\r\n",
      "        1    0.000    0.000    0.000    0.000 {function Random.seed at 0x2b4971fdc2f0}\r\n",
      "   100000    0.005    0.000    0.005    0.000 {method 'append' of 'list' objects}\r\n",
      "   100000    0.005    0.000    0.005    0.000 {method 'bit_length' of 'int' objects}\r\n",
      "        1    0.000    0.000    0.000    0.000 {method 'disable' of '_lsprof.Profiler' objects}\r\n",
      "        8    0.000    0.000    0.000    0.000 {method 'endswith' of 'str' objects}\r\n",
      "       91    0.000    0.000    0.000    0.000 {method 'format' of 'str' objects}\r\n",
      "   126825    0.012    0.000    0.012    0.000 {method 'getrandbits' of '_random.Random' objects}\r\n",
      "       99    0.000    0.000    0.000    0.000 {method 'join' of 'str' objects}\r\n",
      "        2    0.000    0.000    0.000    0.000 {method 'read' of '_io.FileIO' objects}\r\n",
      "       39    0.000    0.000    0.000    0.000 {method 'rpartition' of 'str' objects}\r\n",
      "      194    0.000    0.000    0.000    0.000 {method 'rstrip' of 'str' objects}\r\n",
      "        1    0.000    0.000    0.000    0.000 {method 'union' of 'set' objects}\r\n",
      "\r\n",
      "\r\n"
     ]
    }
   ],
   "source": [
    "!python -m cProfile to_profile.py"
   ]
  },
  {
   "cell_type": "markdown",
   "metadata": {},
   "source": [
    "There are tools that can visualize the information. First, we store the profiling information in a file."
   ]
  },
  {
   "cell_type": "code",
   "execution_count": 16,
   "metadata": {},
   "outputs": [
    {
     "name": "stdout",
     "output_type": "stream",
     "text": [
      "5202761\r\n"
     ]
    }
   ],
   "source": [
    "!python -m cProfile -o to_profile.prof to_profile.py"
   ]
  },
  {
   "cell_type": "markdown",
   "metadata": {},
   "source": [
    "We can then use a tool such as pyprof2calltree to transform the data and serve it in kcachegrind for visualization. Note that the command below will open a new window."
   ]
  },
  {
   "cell_type": "code",
   "execution_count": 18,
   "metadata": {},
   "outputs": [
    {
     "name": "stdout",
     "output_type": "stream",
     "text": [
      "launching kcachegrind\n",
      "CallGraphView::refresh \n",
      "CallGraphView::refresh: Started process 0xd63af0, 'dot -Tplain'\n",
      "CallGraphView::readDotOutput: QProcess 0xd63af0\n",
      "CallGraphView::dotExited: QProcess 0xd63af0\n"
     ]
    }
   ],
   "source": [
    "!pyprof2calltree -k -i to_profile.prof"
   ]
  },
  {
   "cell_type": "markdown",
   "metadata": {},
   "source": [
    "## Exercise 1\n",
    "\n",
    "Profile the script `to_debug_fixed.py` to find out, which root finding algorithm is the slowest. Visualize the results in a call graph."
   ]
  },
  {
   "cell_type": "code",
   "execution_count": 6,
   "metadata": {},
   "outputs": [],
   "source": [
    "!python -m cProfile -o to_debug_fixed.prof to_debug_fixed.py"
   ]
  },
  {
   "cell_type": "code",
   "execution_count": 7,
   "metadata": {},
   "outputs": [],
   "source": [
    "!pyprof2calltree -k -i to_debug_fixed.prof"
   ]
  },
  {
   "cell_type": "markdown",
   "metadata": {},
   "source": [
    "## Exercise 2\n",
    "\n",
    "The script `to_profile_slow.py` is very slow. Profile the script to find out which function takes time. Think about how the script could be improved to make it faster."
   ]
  },
  {
   "cell_type": "code",
   "execution_count": 11,
   "metadata": {},
   "outputs": [
    {
     "name": "stdout",
     "output_type": "stream",
     "text": [
      "import random\r\n",
      "\r\n",
      "\r\n",
      "def build_numbers(nnumbers):\r\n",
      "    return [random.randint(0, 1000000) for x in range(nnumbers)]\r\n",
      "\r\n",
      "\r\n",
      "def find_number(number, numbers):\r\n",
      "    return number in numbers\r\n",
      "\r\n",
      "\r\n",
      "numbers = build_numbers(100000)\r\n",
      "\r\n",
      "nfound = 0\r\n",
      "for number in range(10000):\r\n",
      "    if find_number(number, numbers):\r\n",
      "        nfound += 1\r\n",
      "\r\n",
      "print(nfound)\r\n"
     ]
    }
   ],
   "source": [
    "!cat to_profile_slow.py"
   ]
  },
  {
   "cell_type": "code",
   "execution_count": 8,
   "metadata": {},
   "outputs": [],
   "source": [
    "!/usr/bin/time -v python to_profile_slow.py"
   ]
  },
  {
   "cell_type": "code",
   "execution_count": 9,
   "metadata": {},
   "outputs": [],
   "source": [
    "!/usr/bin/time -v python to_profile_fast.py"
   ]
  }
 ],
 "metadata": {
  "kernelspec": {
   "display_name": "Python 3",
   "language": "python",
   "name": "python3"
  },
  "language_info": {
   "codemirror_mode": {
    "name": "ipython",
    "version": 3
   },
   "file_extension": ".py",
   "mimetype": "text/x-python",
   "name": "python",
   "nbconvert_exporter": "python",
   "pygments_lexer": "ipython3",
   "version": "3.5.4"
  }
 },
 "nbformat": 4,
 "nbformat_minor": 2
}
