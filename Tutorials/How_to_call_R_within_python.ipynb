{
 "cells": [
  {
   "cell_type": "raw",
   "metadata": {},
   "source": [
    "We've had a lot of discussion about how to integrate R and python. One of the points that came up during the RNA-Seq scrum (2016) was that we wanted to output a history of R commands run and the objects in the R namespace. This would allow the user to re-run, and possibly modify, the R analysis outside of the pipeline as well as allowing them to view the R code which has been run. In order to achieve this, Andreas has written a new class which saves the history of R commands which have been run. This also requires that the R code is run as simple R commands rather than creating functions and passing and returning objects. This notebook explains the changes required.\n",
    "\n",
    "For more information on ryp2, refer to Andreas' tutorial (<insert name here>)."
   ]
  },
  {
   "cell_type": "code",
   "execution_count": 1,
   "metadata": {
    "collapsed": false
   },
   "outputs": [],
   "source": [
    "%load_ext rpy2.ipython\n",
    "%matplotlib inline"
   ]
  },
  {
   "cell_type": "markdown",
   "metadata": {},
   "source": [
    "First, let's look at Andreas' new class (below, see CGAT/R.py). We can see that the new class, R_with_History, inherits from the rpy2.robjects R class. The major differences is that we create an empty history with each new instance of the class which we update each time we run R code. Then there are a couple of shorthand functions to save the R image and history. "
   ]
  },
  {
   "cell_type": "code",
   "execution_count": 2,
   "metadata": {
    "collapsed": true
   },
   "outputs": [],
   "source": [
    "from rpy2.robjects import R as RBase\n",
    "\n",
    "\n",
    "class R_with_History(RBase):\n",
    "    ''' Redefine the RBase class to allow history to be saved'''\n",
    "    _instance = None\n",
    "\n",
    "    def __new__(cls):\n",
    "        c = RBase.__new__(cls)\n",
    "        cls._instance = c\n",
    "        c._history = []\n",
    "        return cls._instance\n",
    "\n",
    "    def __call__(self, string):\n",
    "        self._history.append(string)\n",
    "        RBase.__call__(self, string)\n",
    "\n",
    "    def saveImage(self, imageFile):\n",
    "        self[\"save.image\"](file=imageFile)\n",
    "\n",
    "    def saveHistory(self, historyFile, append=False):\n",
    "        ''' save history '''\n",
    "\n",
    "        filetype = \"w\"\n",
    "        if append:\n",
    "            filetype = \"a\"\n",
    "\n",
    "        with open(historyFile, filetype) as outf:\n",
    "            outf.write(\"\\n\".join(self._history) + \"\\n\")"
   ]
  },
  {
   "cell_type": "markdown",
   "metadata": {},
   "source": [
    "We use this class like so:"
   ]
  },
  {
   "cell_type": "code",
   "execution_count": 3,
   "metadata": {
    "collapsed": true
   },
   "outputs": [],
   "source": [
    "import CGAT.R as R"
   ]
  },
  {
   "cell_type": "raw",
   "metadata": {},
   "source": [
    "First some simple R code. Then we save out the data and history"
   ]
  },
  {
   "cell_type": "code",
   "execution_count": 4,
   "metadata": {
    "collapsed": false
   },
   "outputs": [
    {
     "name": "stdout",
     "output_type": "stream",
     "text": [
      " [1] -0.04786724  0.67919814  0.51918615  0.07146713 -2.68074062  0.21189479\n",
      " [7]  0.80139319  0.36264181 -1.05463749 -0.09692264\n"
     ]
    }
   ],
   "source": [
    "RH = R.R_with_History()\n",
    "RH('''\n",
    "\n",
    "temp_vector = rnorm(10)\n",
    "print(temp_vector)\n",
    "''')\n",
    "RH.saveImage(\"./tutorial.Rdata\")\n",
    "RH.saveHistory(\"./tutorial.Rhist\")"
   ]
  },
  {
   "cell_type": "markdown",
   "metadata": {},
   "source": [
    "Now we go into R, and load the image and history. Here we use the %R_magic but we could of course use Rstudio etc. "
   ]
  },
  {
   "cell_type": "code",
   "execution_count": 5,
   "metadata": {
    "collapsed": false
   },
   "outputs": [
    {
     "name": "stdout",
     "output_type": "stream",
     "text": [
      "R Historytemp_vector = rnorm(10)\n",
      "print(temp_vector)\n"
     ]
    },
    {
     "data": {
      "text/plain": [
       "NULL\n",
       " [1] -0.04786724  0.67919814  0.51918615  0.07146713 -2.68074062  0.21189479\n",
       " [7]  0.80139319  0.36264181 -1.05463749 -0.09692264\n"
      ]
     },
     "metadata": {},
     "output_type": "display_data"
    }
   ],
   "source": [
    "%%R\n",
    "load(file=\"./tutorial.Rdata\")\n",
    "loadhistory(\"./tutorial.Rhist\")\n",
    "\n",
    "print(history())\n",
    "\n",
    "print(temp_vector)\n"
   ]
  },
  {
   "cell_type": "markdown",
   "metadata": {},
   "source": [
    "In order to use this new class, we need to re-write some of the code in e.g Expression.py so that we are running R commands to use objects available in the global namespace. In the example below, we have the previous code to run the first step of DESeq2 analysis where a function was defined with rpy2. The following cell shows how to run this with the new class. First, we need to create some dummy counts and design objects"
   ]
  },
  {
   "cell_type": "code",
   "execution_count": 6,
   "metadata": {
    "collapsed": false
   },
   "outputs": [
    {
     "name": "stdout",
     "output_type": "stream",
     "text": [
      "     A    B    C    D\n",
      "0  609  558  353  645\n",
      "1  422  994  993   24\n",
      "2  180  463  755  789\n",
      "3  109  360  552  677\n",
      "4  300  980  441  998\n",
      "      group  include  pair\n",
      "track                     \n",
      "A        wt        1     0\n",
      "B        wt        1     0\n",
      "C        KO        1     0\n",
      "D        KO        1     0\n"
     ]
    }
   ],
   "source": [
    "import CGAT.Counts as Counts\n",
    "import CGAT.Expression as Expression\n",
    "import pandas as pd\n",
    "import numpy as np\n",
    "\n",
    "counts_df = pd.DataFrame({\"A\": np.random.randint(1000, size=100), \"B\": np.random.randint(1000, size=100),\n",
    "                          \"C\": np.random.randint(1000, size=100), \"D\": np.random.randint(1000, size=100)},\n",
    "                         index=range(0,100))\n",
    "\n",
    "design_df = pd.DataFrame({\"track\": [\"A\", \"B\", \"C\", \"D\"], \"group\":[\"wt\",\"wt\",\"KO\",\"KO\"],\n",
    "                          \"include\":[1,1,1,1], \"pair\":[0,0,0,0]})\n",
    "\n",
    "design_df.set_index(\"track\", inplace=True)\n",
    "\n",
    "# create Counts and ExperimentalDesign objs\n",
    "counts = Counts.Counts(counts_df)\n",
    "design = Expression.ExperimentalDesign(design_df)\n",
    "\n",
    "print counts.table.head()\n",
    "print design.table.head()\n",
    "\n",
    "ref_group = \"wt\"\n",
    "model = \"~group\"\n",
    "contrast = \"group\""
   ]
  },
  {
   "cell_type": "markdown",
   "metadata": {},
   "source": [
    "In the cell below we can see how the section of R code used to be run. We define an R function which requires counts and factors input dataframes and returns a \"dds\" object. There is also some string substituion for the contrast and ref_group variables"
   ]
  },
  {
   "cell_type": "code",
   "execution_count": 7,
   "metadata": {
    "collapsed": false
   },
   "outputs": [
    {
     "name": "stdout",
     "output_type": "stream",
     "text": [
      "class: DESeqDataSet \n",
      "dim: 100 4 \n",
      "metadata(1): version\n",
      "assays(1): counts\n",
      "rownames(100): 0 1 ... 98 99\n",
      "rowData names(0):\n",
      "colnames(4): A B C D\n",
      "colData names(1): group\n",
      "\n"
     ]
    }
   ],
   "source": [
    "from rpy2 import robjects as ro\n",
    "from rpy2.robjects import pandas2ri\n",
    "\n",
    "from rpy2.robjects import r as R\n",
    "\n",
    "r_counts = pandas2ri.py2ri(counts.table)\n",
    "r_factors_df = pandas2ri.py2ri(design.factors)\n",
    "\n",
    "R('''suppressMessages(library('DESeq2'))''')\n",
    "\n",
    "buildDds = R('''\n",
    "function(counts, factors_df){\n",
    "for(column in colnames(factors_df)){\n",
    "  factors_df[[column]] = factor(factors_df[[column]])\n",
    "}\n",
    "full_model <- formula(\"%(model)s\")\n",
    "factors_df$%(contrast)s <- relevel(\n",
    "   factors_df$%(contrast)s, ref=\"%(ref_group)s\")\n",
    "dds <- suppressMessages(DESeqDataSetFromMatrix(\n",
    "         countData= counts,\n",
    "         colData = factors_df,\n",
    "         design = full_model))\n",
    "return(dds)\n",
    "}''' % locals())\n",
    "\n",
    "\n",
    "r_dds = buildDds(r_counts, r_factors_df)\n",
    "\n",
    "print(r_dds)"
   ]
  },
  {
   "cell_type": "markdown",
   "metadata": {},
   "source": [
    "Now we rewrite this code to use Andreas' class. To do this, we explicitly create the objects in the R namespace. At the end we can save out the history and image if we wish. "
   ]
  },
  {
   "cell_type": "code",
   "execution_count": 8,
   "metadata": {
    "collapsed": false
   },
   "outputs": [],
   "source": [
    "# create r objects\n",
    "import CGAT.R as R\n",
    "R = R.R_with_History()\n",
    "\n",
    "ro.globalenv['counts'] = pandas2ri.py2ri(counts.table)\n",
    "ro.globalenv['factors_df'] = pandas2ri.py2ri(design.factors)\n",
    "\n",
    "R('''\n",
    "\n",
    "for(column in colnames(factors_df)){\n",
    "    factors_df[[column]] = factor(factors_df[[column]])}\n",
    "\n",
    "full_model <- formula(\"%(model)s\")\n",
    "\n",
    "factors_df$%(contrast)s <- relevel(\n",
    "   factors_df$%(contrast)s, ref=\"%(ref_group)s\")\n",
    "\n",
    "dds <- suppressMessages(DESeqDataSetFromMatrix(\n",
    "         countData= counts,\n",
    "         colData = factors_df,\n",
    "         design = full_model))\n",
    "''' % locals())\n",
    "\n",
    "R.saveHistory(\"./tutorial_DESeq2.Rhist\")\n",
    "R.saveImage(\"./tutorial_DESeq2.Rdata\")"
   ]
  },
  {
   "cell_type": "code",
   "execution_count": 9,
   "metadata": {
    "collapsed": false
   },
   "outputs": [
    {
     "name": "stdout",
     "output_type": "stream",
     "text": [
      "R Historyfor(column in colnames(factors_df)){\n",
      "    factors_df[[column]] = factor(factors_df[[column]])}\n",
      "full_model <- formula(\"~group\")\n",
      "factors_df$group <- relevel(\n",
      "   factors_df$group, ref=\"wt\")\n",
      "dds <- suppressMessages(DESeqDataSetFromMatrix(\n",
      "         countData= counts,\n",
      "         colData = factors_df,\n",
      "         design = full_model))\n"
     ]
    },
    {
     "data": {
      "text/plain": [
       "NULL\n",
       "class: DESeqDataSet \n",
       "dim: 100 4 \n",
       "metadata(1): version\n",
       "assays(1): counts\n",
       "rownames(100): 0 1 ... 98 99\n",
       "rowData names(0):\n",
       "colnames(4): A B C D\n",
       "colData names(1): group\n"
      ]
     },
     "metadata": {},
     "output_type": "display_data"
    }
   ],
   "source": [
    "%%R\n",
    "load(file=\"./tutorial.Rdata\")\n",
    "loadhistory(\"./tutorial_DESeq2.Rhist\")\n",
    "\n",
    "print(history())\n",
    "\n",
    "print(dds)"
   ]
  },
  {
   "cell_type": "markdown",
   "metadata": {},
   "source": [
    "Of course, in the real analysis we wouldn't save out the image and history until the end of the analysis. Moreover, if we're running this in a script, we would also like to create the R class when we start the script, and save out the history and image when we stop the script. For this reason, the handling of the R class will be done within Experiment.py and default options for history/imaging saving will be added."
   ]
  },
  {
   "cell_type": "raw",
   "metadata": {},
   "source": [
    "Another important thing to consider is that the image saved is the objects in their final state following the running of all the R code. Where the object is modified in the code, this may mean re-running the history with the final objects will not work. See the simple example below for a demonstration of this.\n"
   ]
  },
  {
   "cell_type": "code",
   "execution_count": 12,
   "metadata": {
    "collapsed": false
   },
   "outputs": [
    {
     "name": "stdout",
     "output_type": "stream",
     "text": [
      "            A          B           C          D\n",
      "A  1.00000000 -0.1553691 -0.08955991 -0.1177167\n",
      "B -0.15536908  1.0000000  0.11149109 -0.1319077\n",
      "C -0.08955991  0.1114911  1.00000000 -0.0307937\n",
      "D -0.11771672 -0.1319077 -0.03079370  1.0000000\n"
     ]
    }
   ],
   "source": [
    "counts = Counts.Counts(counts_df)\n",
    "\n",
    "import CGAT.R as R\n",
    "R = R.R_with_History()\n",
    "\n",
    "# plot counts\n",
    "ro.globalenv['df'] = pandas2ri.py2ri(counts.table)\n",
    "R('''\n",
    "print(cor(df))\n",
    "''')\n",
    "\n",
    "# subset design\n",
    "ro.globalenv['df'] = pandas2ri.py2ri(design.table)\n",
    "R('''\n",
    "final_design = df[df$include==1,]\n",
    "''')\n",
    "\n",
    "R.saveHistory(\"./tutorial_DESeq2.Rhist\")\n",
    "R.saveImage(\"./tutorial_DESeq2.Rdata\")"
   ]
  },
  {
   "cell_type": "markdown",
   "metadata": {},
   "source": [
    "In the code above, we run two R commands. In both cases we call the input DataFrame the rather generic, \"df\". The first command in the history therefore fails using the final objects"
   ]
  },
  {
   "cell_type": "code",
   "execution_count": 19,
   "metadata": {
    "collapsed": false
   },
   "outputs": [
    {
     "name": "stdout",
     "output_type": "stream",
     "text": [
      "R Historyprint(cor(df))\n",
      "final_design = df[df$include==1,]\n",
      "NULL\n",
      "Error in cor(df) : 'x' must be numeric\n"
     ]
    }
   ],
   "source": [
    "%%R\n",
    "load(file=\"./tutorial.Rdata\")\n",
    "loadhistory(\"./tutorial_DESeq2.Rhist\")\n",
    "\n",
    "print(history())\n",
    "\n",
    "print(cor(df))\n",
    "final_design = df[df$include==1,]"
   ]
  },
  {
   "cell_type": "markdown",
   "metadata": {},
   "source": [
    "In order to avoid this, we should use more specific, clear variable names and not modify the input objects."
   ]
  }
 ],
 "metadata": {
  "kernelspec": {
   "display_name": "Python 2",
   "language": "python",
   "name": "python2"
  },
  "language_info": {
   "codemirror_mode": {
    "name": "ipython",
    "version": 2
   },
   "file_extension": ".py",
   "mimetype": "text/x-python",
   "name": "python",
   "nbconvert_exporter": "python",
   "pygments_lexer": "ipython2",
   "version": "2.7.11"
  }
 },
 "nbformat": 4,
 "nbformat_minor": 0
}
